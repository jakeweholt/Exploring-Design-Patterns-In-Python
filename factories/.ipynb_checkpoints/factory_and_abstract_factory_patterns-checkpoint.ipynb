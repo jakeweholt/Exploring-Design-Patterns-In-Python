{
 "cells": [
  {
   "cell_type": "markdown",
   "metadata": {},
   "source": [
    "# Factory Pattern\n",
    "\n",
    "The factory pattern allows us to define and control the interfaces in our code. Here, we have a model factory which can be interacted with through the model function. To build a model, we need to call model(model_name). This allows us to control which models can be used in our codebase."
   ]
  },
  {
   "cell_type": "code",
   "execution_count": 7,
   "metadata": {
    "ExecuteTime": {
     "end_time": "2019-03-08T14:57:15.192988Z",
     "start_time": "2019-03-08T14:57:15.187901Z"
    }
   },
   "outputs": [],
   "source": [
    "from sklearn.linear_model import LinearRegression, HuberRegressor\n",
    "from sklearn.ensemble import RandomForestRegressor"
   ]
  },
  {
   "cell_type": "code",
   "execution_count": 8,
   "metadata": {
    "ExecuteTime": {
     "end_time": "2019-03-08T14:57:15.507748Z",
     "start_time": "2019-03-08T14:57:15.493160Z"
    }
   },
   "outputs": [
    {
     "name": "stdout",
     "output_type": "stream",
     "text": [
      "<class 'sklearn.linear_model.base.LinearRegression'>\n",
      "<class 'sklearn.linear_model.huber.HuberRegressor'>\n",
      "<class 'sklearn.ensemble.forest.RandomForestRegressor'>\n"
     ]
    }
   ],
   "source": [
    "def model_factory(model_name):\n",
    "    if model_name == 'linear_regression':\n",
    "        return(LinearRegression)\n",
    "    if model_name == 'huber_regressor':\n",
    "        return(HuberRegressor)\n",
    "    if model_name == 'random_forest_regressor':\n",
    "        return(RandomForestRegressor)\n",
    "    \n",
    "def model(model_name):\n",
    "    factory_obj = None\n",
    "    try:\n",
    "        factory_obj = model_factory(model_name)\n",
    "    except ValueError as e:\n",
    "        print(e)\n",
    "    return factory_obj\n",
    "\n",
    "def main():\n",
    "    model_1 = model('linear_regression')\n",
    "    print(model_1)\n",
    "    model_2 = model('huber_regressor')\n",
    "    print(model_2)\n",
    "    model_3 = model('random_forest_regressor')\n",
    "    print(model_3)\n",
    "    \n",
    "    \n",
    "if __name__ == '__main__':\n",
    "    main()"
   ]
  },
  {
   "cell_type": "markdown",
   "metadata": {},
   "source": [
    "# Abstract Factory Pattern"
   ]
  },
  {
   "cell_type": "code",
   "execution_count": null,
   "metadata": {},
   "outputs": [],
   "source": [
    "from abc import ABC, abstractmethod\n",
    " \n",
    "class AbstractFactory(ABC):\n",
    " \n",
    "    def __init__(self, name):\n",
    "        self.name = name\n",
    "        super().__init__()\n",
    "    \n",
    "    @abstractmethod\n",
    "    def method_1(self):\n",
    "        pass\n",
    "    \n",
    "    @abstractmethod\n",
    "    def method_2(self):\n",
    "        pass\n",
    "\n",
    "\n",
    "class AbstractFactory:\n",
    "    def __init__(self, factory):\n",
    "        self.method_1 = factory.method_1()\n",
    "        self.method_2 = factory.method_2()"
   ]
  }
 ],
 "metadata": {
  "kernelspec": {
   "display_name": "Python 2",
   "language": "python",
   "name": "python2"
  },
  "language_info": {
   "codemirror_mode": {
    "name": "ipython",
    "version": 2
   },
   "file_extension": ".py",
   "mimetype": "text/x-python",
   "name": "python",
   "nbconvert_exporter": "python",
   "pygments_lexer": "ipython2",
   "version": "2.7.10"
  },
  "toc": {
   "colors": {
    "hover_highlight": "#DAA520",
    "navigate_num": "#000000",
    "navigate_text": "#333333",
    "running_highlight": "#FF0000",
    "selected_highlight": "#FFD700",
    "sidebar_border": "#EEEEEE",
    "wrapper_background": "#FFFFFF"
   },
   "moveMenuLeft": true,
   "nav_menu": {
    "height": "48px",
    "width": "252px"
   },
   "navigate_menu": true,
   "number_sections": true,
   "sideBar": true,
   "threshold": 4,
   "toc_cell": false,
   "toc_section_display": "block",
   "toc_window_display": false,
   "widenNotebook": false
  }
 },
 "nbformat": 4,
 "nbformat_minor": 2
}
