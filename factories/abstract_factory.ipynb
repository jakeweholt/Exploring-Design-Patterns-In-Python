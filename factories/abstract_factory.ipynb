{
 "cells": [
  {
   "cell_type": "markdown",
   "metadata": {},
   "source": [
    "# Abstract Factory"
   ]
  },
  {
   "cell_type": "code",
   "execution_count": 3,
   "metadata": {
    "ExecuteTime": {
     "end_time": "2019-03-08T15:36:49.577974Z",
     "start_time": "2019-03-08T15:36:49.575230Z"
    }
   },
   "outputs": [],
   "source": [
    "from abstract_factory import EntryPoint, Factory_1, Factory_2"
   ]
  },
  {
   "cell_type": "code",
   "execution_count": 4,
   "metadata": {
    "ExecuteTime": {
     "end_time": "2019-03-08T15:36:49.888214Z",
     "start_time": "2019-03-08T15:36:49.885113Z"
    }
   },
   "outputs": [],
   "source": [
    "f1 = Factory_1(name='factory_1')\n",
    "f2 = Factory_2(name='factory_2')"
   ]
  },
  {
   "cell_type": "code",
   "execution_count": 7,
   "metadata": {
    "ExecuteTime": {
     "end_time": "2019-03-08T15:36:50.842348Z",
     "start_time": "2019-03-08T15:36:50.838420Z"
    }
   },
   "outputs": [
    {
     "name": "stdout",
     "output_type": "stream",
     "text": [
      "factory_1\n",
      "factory_1_method_1\n",
      "factory_1_method_2\n"
     ]
    }
   ],
   "source": [
    "entry = EntryPoint(f1)\n",
    "print(entry.name)\n",
    "print(entry.method_1())\n",
    "print(entry.method_2())"
   ]
  },
  {
   "cell_type": "code",
   "execution_count": 8,
   "metadata": {
    "ExecuteTime": {
     "end_time": "2019-03-08T15:36:51.178687Z",
     "start_time": "2019-03-08T15:36:51.174593Z"
    }
   },
   "outputs": [
    {
     "name": "stdout",
     "output_type": "stream",
     "text": [
      "factory_2\n",
      "factory_2_method_1\n",
      "factory_2_method_2\n"
     ]
    }
   ],
   "source": [
    "entry = EntryPoint(f2)\n",
    "print(entry.name)\n",
    "print(entry.method_1())\n",
    "print(entry.method_2())"
   ]
  },
  {
   "cell_type": "code",
   "execution_count": 5,
   "metadata": {
    "ExecuteTime": {
     "end_time": "2019-03-08T15:36:50.200321Z",
     "start_time": "2019-03-08T15:36:50.196098Z"
    }
   },
   "outputs": [
    {
     "name": "stdout",
     "output_type": "stream",
     "text": [
      "factory_1\n",
      "factory_1_method_1\n",
      "factory_1_method_2\n"
     ]
    }
   ],
   "source": [
    "print(f1.name)\n",
    "print(f1.method_1())\n",
    "print(f1.method_2())"
   ]
  },
  {
   "cell_type": "code",
   "execution_count": 6,
   "metadata": {
    "ExecuteTime": {
     "end_time": "2019-03-08T15:36:50.519625Z",
     "start_time": "2019-03-08T15:36:50.516353Z"
    }
   },
   "outputs": [
    {
     "name": "stdout",
     "output_type": "stream",
     "text": [
      "factory_2\n",
      "factory_2_method_1\n",
      "factory_2_method_2\n"
     ]
    }
   ],
   "source": [
    "print(f2.name)\n",
    "print(f2.method_1())\n",
    "print(f2.method_2())"
   ]
  },
  {
   "cell_type": "code",
   "execution_count": null,
   "metadata": {},
   "outputs": [],
   "source": []
  }
 ],
 "metadata": {
  "kernelspec": {
   "display_name": "Python 3",
   "language": "python",
   "name": "python3"
  },
  "language_info": {
   "codemirror_mode": {
    "name": "ipython",
    "version": 3
   },
   "file_extension": ".py",
   "mimetype": "text/x-python",
   "name": "python",
   "nbconvert_exporter": "python",
   "pygments_lexer": "ipython3",
   "version": "3.7.1"
  },
  "toc": {
   "colors": {
    "hover_highlight": "#DAA520",
    "navigate_num": "#000000",
    "navigate_text": "#333333",
    "running_highlight": "#FF0000",
    "selected_highlight": "#FFD700",
    "sidebar_border": "#EEEEEE",
    "wrapper_background": "#FFFFFF"
   },
   "moveMenuLeft": true,
   "nav_menu": {
    "height": "30px",
    "width": "252px"
   },
   "navigate_menu": true,
   "number_sections": true,
   "sideBar": true,
   "threshold": 4,
   "toc_cell": false,
   "toc_section_display": "block",
   "toc_window_display": false,
   "widenNotebook": false
  }
 },
 "nbformat": 4,
 "nbformat_minor": 2
}
