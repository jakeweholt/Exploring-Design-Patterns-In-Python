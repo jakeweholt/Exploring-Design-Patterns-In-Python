{
 "cells": [
  {
   "cell_type": "markdown",
   "metadata": {},
   "source": [
    "## Elevator State Machine"
   ]
  },
  {
   "cell_type": "code",
   "execution_count": 1,
   "metadata": {
    "ExecuteTime": {
     "end_time": "2019-03-08T14:38:26.652362Z",
     "start_time": "2019-03-08T14:38:26.543612Z"
    }
   },
   "outputs": [],
   "source": [
    "from elevator_state_machine import move_elevator, terminate_elevator, Elevator"
   ]
  },
  {
   "cell_type": "markdown",
   "metadata": {},
   "source": [
    "#### Initialize elevator"
   ]
  },
  {
   "cell_type": "code",
   "execution_count": 2,
   "metadata": {
    "ExecuteTime": {
     "end_time": "2019-03-08T14:38:26.663682Z",
     "start_time": "2019-03-08T14:38:26.657763Z"
    }
   },
   "outputs": [
    {
     "name": "stdout",
     "output_type": "stream",
     "text": [
      "elevator1 entered waiting mode at floor 0\n"
     ]
    }
   ],
   "source": [
    "e1 = Elevator('elevator1')"
   ]
  },
  {
   "cell_type": "markdown",
   "metadata": {},
   "source": [
    "#### Move to floor 10 case (moving up)"
   ]
  },
  {
   "cell_type": "code",
   "execution_count": 3,
   "metadata": {
    "ExecuteTime": {
     "end_time": "2019-03-08T14:38:33.690793Z",
     "start_time": "2019-03-08T14:38:26.668498Z"
    }
   },
   "outputs": [
    {
     "name": "stdout",
     "output_type": "stream",
     "text": [
      "elevator1 is moving up from floor 0 to floor 10\n",
      "elevator1 entered waiting mode at floor 10\n",
      "elevator1 door opening\n",
      "elevator1 entered waiting mode at floor 10\n",
      "elevator1 door closing\n",
      "elevator1 entered waiting mode at floor 10\n"
     ]
    }
   ],
   "source": [
    "move_elevator(e1, 10)"
   ]
  },
  {
   "cell_type": "markdown",
   "metadata": {},
   "source": [
    "#### Move to floor 8 case (moving down)"
   ]
  },
  {
   "cell_type": "code",
   "execution_count": 4,
   "metadata": {
    "ExecuteTime": {
     "end_time": "2019-03-08T14:38:40.716280Z",
     "start_time": "2019-03-08T14:38:33.695904Z"
    }
   },
   "outputs": [
    {
     "name": "stdout",
     "output_type": "stream",
     "text": [
      "elevator1 is moving down from floor 10 to floor 8\n",
      "elevator1 entered waiting mode at floor 8\n",
      "elevator1 door opening\n",
      "elevator1 entered waiting mode at floor 8\n",
      "elevator1 door closing\n",
      "elevator1 entered waiting mode at floor 8\n"
     ]
    }
   ],
   "source": [
    "move_elevator(e1, 8)"
   ]
  },
  {
   "cell_type": "markdown",
   "metadata": {},
   "source": [
    "#### Move to same floor case"
   ]
  },
  {
   "cell_type": "code",
   "execution_count": 5,
   "metadata": {
    "ExecuteTime": {
     "end_time": "2019-03-08T14:38:40.726586Z",
     "start_time": "2019-03-08T14:38:40.721029Z"
    }
   },
   "outputs": [
    {
     "name": "stdout",
     "output_type": "stream",
     "text": [
      "elevator1 entered waiting mode at floor 8\n"
     ]
    }
   ],
   "source": [
    "move_elevator(e1, 8)"
   ]
  },
  {
   "cell_type": "markdown",
   "metadata": {},
   "source": [
    "#### Terminate Elevator"
   ]
  },
  {
   "cell_type": "code",
   "execution_count": 6,
   "metadata": {
    "ExecuteTime": {
     "end_time": "2019-03-08T14:38:40.735936Z",
     "start_time": "2019-03-08T14:38:40.732170Z"
    }
   },
   "outputs": [
    {
     "name": "stdout",
     "output_type": "stream",
     "text": [
      "elevator1 terminated\n"
     ]
    }
   ],
   "source": [
    "terminate_elevator(e1)"
   ]
  },
  {
   "cell_type": "code",
   "execution_count": null,
   "metadata": {},
   "outputs": [],
   "source": []
  }
 ],
 "metadata": {
  "kernelspec": {
   "display_name": "Python 2",
   "language": "python",
   "name": "python2"
  },
  "language_info": {
   "codemirror_mode": {
    "name": "ipython",
    "version": 2
   },
   "file_extension": ".py",
   "mimetype": "text/x-python",
   "name": "python",
   "nbconvert_exporter": "python",
   "pygments_lexer": "ipython2",
   "version": "2.7.10"
  },
  "toc": {
   "colors": {
    "hover_highlight": "#DAA520",
    "navigate_num": "#000000",
    "navigate_text": "#333333",
    "running_highlight": "#FF0000",
    "selected_highlight": "#FFD700",
    "sidebar_border": "#EEEEEE",
    "wrapper_background": "#FFFFFF"
   },
   "moveMenuLeft": true,
   "nav_menu": {
    "height": "48px",
    "width": "252px"
   },
   "navigate_menu": true,
   "number_sections": true,
   "sideBar": true,
   "threshold": 4,
   "toc_cell": false,
   "toc_section_display": "block",
   "toc_window_display": false,
   "widenNotebook": false
  }
 },
 "nbformat": 4,
 "nbformat_minor": 2
}
