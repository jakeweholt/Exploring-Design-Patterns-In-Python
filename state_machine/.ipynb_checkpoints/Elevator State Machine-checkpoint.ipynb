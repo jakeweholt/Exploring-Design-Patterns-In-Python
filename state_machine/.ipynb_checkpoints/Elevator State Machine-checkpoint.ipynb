{
 "cells": [
  {
   "cell_type": "markdown",
   "metadata": {},
   "source": [
    "## Elevator State Machine"
   ]
  },
  {
   "cell_type": "code",
   "execution_count": null,
   "metadata": {
    "ExecuteTime": {
     "end_time": "2019-03-05T15:26:05.042979Z",
     "start_time": "2019-03-05T15:26:04.920787Z"
    }
   },
   "outputs": [],
   "source": [
    "from state_machine import (State, Event, acts_as_state_machine,\n",
    "                           after, before, InvalidStateTransition)\n",
    "import time\n",
    "\n",
    " \n",
    "@acts_as_state_machine \n",
    "class Process: \n",
    "    created = State(initial=True) \n",
    "    waiting = State() \n",
    "    moving_up = State()\n",
    "    moving_down = State()\n",
    "    opening_door = State()\n",
    "    closing_door = State()\n",
    "    blocked = State() \n",
    "    terminated = State() \n",
    "    \n",
    "    wait = Event(from_states=(created, moving_up, moving_down, blocked, opening_door, closing_door), \n",
    "                 to_state=waiting)\n",
    "    \n",
    "    move_up = Event(from_states=waiting,\n",
    "                    to_state=moving_up)\n",
    "    \n",
    "    move_down = Event(from_states=waiting,\n",
    "                      to_state=moving_down)\n",
    "    \n",
    "    open_door = Event(from_states=waiting,\n",
    "                      to_state=opening_door)\n",
    "    \n",
    "    close_door = Event(from_states=waiting,\n",
    "                      to_state=closing_door)\n",
    "    \n",
    "    block = Event(from_states=(move_up, move_down),\n",
    "                      to_state=blocked)\n",
    "    \n",
    "    terminate = Event(from_states=wait,\n",
    "                      to_state=terminated)\n",
    "    \n",
    "    @after('wait') \n",
    "    def wait_info(self): \n",
    "        print '{} entered waiting mode at floor {}'.format(self.name, self.current_floor)\n",
    " \n",
    "    @after('move_up') \n",
    "    def run_info(self): \n",
    "        print '{} is moving up from floor {} to floor {}'.format(self.name, self.current_floor, self.target_floor) \n",
    "        time.sleep(3)\n",
    "        self.current_floor = self.target_floor\n",
    "        \n",
    "    @after('move_down') \n",
    "    def run_info(self): \n",
    "        print '{} is moving down from floor {} to floor {}'.format(self.name, self.current_floor, self.target_floor) \n",
    "        time.sleep(3)\n",
    "        self.current_floor = self.target_floor\n",
    "        \n",
    "    @before('open_door') \n",
    "    def terminate_info(self): \n",
    "        print '{} door opening'.format(self.name)\n",
    "        time.sleep(2)\n",
    "        \n",
    "    @before('close_door') \n",
    "    def terminate_info(self): \n",
    "        print '{} door closing'.format(self.name)\n",
    "        time.sleep(2)\n",
    " \n",
    "    @before('terminate') \n",
    "    def terminate_info(self): \n",
    "        print '{} terminated'.format(self.name)\n",
    " \n",
    "    @after('block') \n",
    "    def block_info(self): \n",
    "        print '{} is blocked'.format(self.name)\n",
    "    \n",
    "    def __init__(self, name, current_floor=0): \n",
    "        self.name = name\n",
    "        self.current_floor = current_floor\n",
    "        self.target_floor = None\n",
    "        \n",
    "    def set_target_floor(self, target_floor):\n",
    "        self.target_floor = target_floor\n",
    "        \n",
    "    def set_current_floor(self, current_floor):\n",
    "        self.current_floor = current_floor\n",
    "        \n",
    "        \n",
    "def transition(process, event, event_name): \n",
    "    try: \n",
    "        event() \n",
    "    except  InvalidStateTransition as err: \n",
    "        print('Error: transition of {} from {} to {} failed'.format(process.name, process.current_state, event_name))\n",
    "        \n",
    "def move_elevator(process, event, event_name, floor):\n",
    "    e1.set_target_floor(floor)\n",
    "    transition(process, event, event_name)\n",
    "    transition(e1, e1.wait, WAITING)\n",
    "    transition(e1, e1.open_door, OPENINGDOOR)\n",
    "    transition(e1, e1.wait, WAITING)\n",
    "    transition(e1, e1.close_door, CLOSINGDOOR)\n",
    "    transition(e1, e1.wait, WAITING)"
   ]
  },
  {
   "cell_type": "code",
   "execution_count": null,
   "metadata": {
    "ExecuteTime": {
     "end_time": "2019-03-05T15:26:05.261477Z",
     "start_time": "2019-03-05T15:26:05.253958Z"
    }
   },
   "outputs": [],
   "source": [
    "MOVINGUP = 'moving up' \n",
    "MOVINGDOWN = 'moving down' \n",
    "OPENINGDOOR = 'opening door' \n",
    "CLOSINGDOOR = 'closing door' \n",
    "WAITING = 'waiting' \n",
    "BLOCKED = 'blocked' \n",
    "TERMINATED = 'terminated' \n",
    "\n",
    "e1 = Process('elevator1')\n",
    "transition(e1, e1.wait, WAITING)"
   ]
  },
  {
   "cell_type": "code",
   "execution_count": null,
   "metadata": {
    "ExecuteTime": {
     "end_time": "2019-03-05T15:26:12.616005Z",
     "start_time": "2019-03-05T15:26:05.606014Z"
    }
   },
   "outputs": [],
   "source": [
    "move_elevator(e1, e1.move_up, MOVINGUP, 10)"
   ]
  },
  {
   "cell_type": "code",
   "execution_count": null,
   "metadata": {
    "ExecuteTime": {
     "end_time": "2019-03-05T15:26:20.906244Z",
     "start_time": "2019-03-05T15:26:13.896621Z"
    }
   },
   "outputs": [],
   "source": [
    "move_elevator(e1, e1.move_down, MOVINGDOWN, 9)"
   ]
  },
  {
   "cell_type": "code",
   "execution_count": 3,
   "metadata": {
    "ExecuteTime": {
     "end_time": "2019-03-08T14:15:03.718462Z",
     "start_time": "2019-03-08T14:15:03.713478Z"
    }
   },
   "outputs": [],
   "source": [
    "from elevator_state_machine import move_elevator, Elevator, transition"
   ]
  },
  {
   "cell_type": "code",
   "execution_count": 4,
   "metadata": {
    "ExecuteTime": {
     "end_time": "2019-03-08T14:15:05.801216Z",
     "start_time": "2019-03-08T14:15:05.793767Z"
    }
   },
   "outputs": [
    {
     "name": "stdout",
     "output_type": "stream",
     "text": [
      "elevator1 entered waiting mode at floor 0\n"
     ]
    }
   ],
   "source": [
    "MOVINGUP = 'moving up' \n",
    "MOVINGDOWN = 'moving down' \n",
    "OPENINGDOOR = 'opening door' \n",
    "CLOSINGDOOR = 'closing door' \n",
    "WAITING = 'waiting' \n",
    "BLOCKED = 'blocked' \n",
    "TERMINATED = 'terminated' \n",
    "\n",
    "e1 = Elevator('elevator1')"
   ]
  },
  {
   "cell_type": "code",
   "execution_count": 5,
   "metadata": {
    "ExecuteTime": {
     "end_time": "2019-03-08T14:15:13.494066Z",
     "start_time": "2019-03-08T14:15:10.472930Z"
    }
   },
   "outputs": [
    {
     "name": "stdout",
     "output_type": "stream",
     "text": [
      "elevator1 is moving up from floor 0 to floor 10\n"
     ]
    },
    {
     "ename": "NameError",
     "evalue": "global name 'WAITING' is not defined",
     "output_type": "error",
     "traceback": [
      "\u001b[0;31m---------------------------------------------------------------------------\u001b[0m",
      "\u001b[0;31mNameError\u001b[0m                                 Traceback (most recent call last)",
      "\u001b[0;32m<ipython-input-5-835ed73a09a8>\u001b[0m in \u001b[0;36m<module>\u001b[0;34m()\u001b[0m\n\u001b[0;32m----> 1\u001b[0;31m \u001b[0mmove_elevator\u001b[0m\u001b[0;34m(\u001b[0m\u001b[0me1\u001b[0m\u001b[0;34m,\u001b[0m \u001b[0me1\u001b[0m\u001b[0;34m.\u001b[0m\u001b[0mmove_up\u001b[0m\u001b[0;34m,\u001b[0m \u001b[0mMOVINGUP\u001b[0m\u001b[0;34m,\u001b[0m \u001b[0;36m10\u001b[0m\u001b[0;34m)\u001b[0m\u001b[0;34m\u001b[0m\u001b[0m\n\u001b[0m",
      "\u001b[0;32m/Users/jakeweholt/developer/github/practice/designpatterns/state_machine/elevator_state_machine.py\u001b[0m in \u001b[0;36mmove_elevator\u001b[0;34m(process, event, event_name, floor)\u001b[0m\n\u001b[1;32m     91\u001b[0m     \u001b[0mprocess\u001b[0m\u001b[0;34m.\u001b[0m\u001b[0mset_target_floor\u001b[0m\u001b[0;34m(\u001b[0m\u001b[0mfloor\u001b[0m\u001b[0;34m)\u001b[0m\u001b[0;34m\u001b[0m\u001b[0m\n\u001b[1;32m     92\u001b[0m     \u001b[0mtransition\u001b[0m\u001b[0;34m(\u001b[0m\u001b[0mprocess\u001b[0m\u001b[0;34m,\u001b[0m \u001b[0mevent\u001b[0m\u001b[0;34m,\u001b[0m \u001b[0mevent_name\u001b[0m\u001b[0;34m)\u001b[0m\u001b[0;34m\u001b[0m\u001b[0m\n\u001b[0;32m---> 93\u001b[0;31m     \u001b[0mtransition\u001b[0m\u001b[0;34m(\u001b[0m\u001b[0mprocess\u001b[0m\u001b[0;34m,\u001b[0m \u001b[0mprocess\u001b[0m\u001b[0;34m.\u001b[0m\u001b[0mwait\u001b[0m\u001b[0;34m,\u001b[0m \u001b[0mWAITING\u001b[0m\u001b[0;34m)\u001b[0m\u001b[0;34m\u001b[0m\u001b[0m\n\u001b[0m\u001b[1;32m     94\u001b[0m     \u001b[0mtransition\u001b[0m\u001b[0;34m(\u001b[0m\u001b[0mprocess\u001b[0m\u001b[0;34m,\u001b[0m \u001b[0mprocess\u001b[0m\u001b[0;34m.\u001b[0m\u001b[0mopen_door\u001b[0m\u001b[0;34m,\u001b[0m \u001b[0mOPENINGDOOR\u001b[0m\u001b[0;34m)\u001b[0m\u001b[0;34m\u001b[0m\u001b[0m\n\u001b[1;32m     95\u001b[0m     \u001b[0mtransition\u001b[0m\u001b[0;34m(\u001b[0m\u001b[0mprocess\u001b[0m\u001b[0;34m,\u001b[0m \u001b[0mprocess\u001b[0m\u001b[0;34m.\u001b[0m\u001b[0mwait\u001b[0m\u001b[0;34m,\u001b[0m \u001b[0mWAITING\u001b[0m\u001b[0;34m)\u001b[0m\u001b[0;34m\u001b[0m\u001b[0m\n",
      "\u001b[0;31mNameError\u001b[0m: global name 'WAITING' is not defined"
     ]
    }
   ],
   "source": [
    "move_elevator(e1, e1.move_up, MOVINGUP, 10)"
   ]
  },
  {
   "cell_type": "code",
   "execution_count": null,
   "metadata": {},
   "outputs": [],
   "source": []
  }
 ],
 "metadata": {
  "kernelspec": {
   "display_name": "Python 2",
   "language": "python",
   "name": "python2"
  },
  "language_info": {
   "codemirror_mode": {
    "name": "ipython",
    "version": 2
   },
   "file_extension": ".py",
   "mimetype": "text/x-python",
   "name": "python",
   "nbconvert_exporter": "python",
   "pygments_lexer": "ipython2",
   "version": "2.7.10"
  },
  "toc": {
   "colors": {
    "hover_highlight": "#DAA520",
    "navigate_num": "#000000",
    "navigate_text": "#333333",
    "running_highlight": "#FF0000",
    "selected_highlight": "#FFD700",
    "sidebar_border": "#EEEEEE",
    "wrapper_background": "#FFFFFF"
   },
   "moveMenuLeft": true,
   "nav_menu": {
    "height": "48px",
    "width": "252px"
   },
   "navigate_menu": true,
   "number_sections": true,
   "sideBar": true,
   "threshold": 4,
   "toc_cell": false,
   "toc_section_display": "block",
   "toc_window_display": false,
   "widenNotebook": false
  }
 },
 "nbformat": 4,
 "nbformat_minor": 2
}
